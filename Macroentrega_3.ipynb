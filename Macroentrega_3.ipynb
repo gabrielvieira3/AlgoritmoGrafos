{
  "nbformat": 4,
  "nbformat_minor": 0,
  "metadata": {
    "colab": {
      "provenance": [],
      "collapsed_sections": [
        "CarZ-t5SFBuR",
        "7Sh75OPEFnvn",
        "D5iboifyHwMF",
        "UkbDBMomIlBx",
        "EN5so8rCJAQa",
        "zdJzVJkIJYGB",
        "rWJ_WNlQKH-6",
        "3cfhutl4ZMwz",
        "8W_RUStdxqQP"
      ],
      "authorship_tag": "ABX9TyMctGQIMN8SnmRYtyJPDhXP",
      "include_colab_link": true
    },
    "kernelspec": {
      "name": "python3",
      "display_name": "Python 3"
    },
    "language_info": {
      "name": "python"
    }
  },
  "cells": [
    {
      "cell_type": "markdown",
      "metadata": {
        "id": "view-in-github",
        "colab_type": "text"
      },
      "source": [
        "<a href=\"https://colab.research.google.com/github/gabrielvieira3/AlgoritmoGrafos/blob/main/Macroentrega_3.ipynb\" target=\"_parent\"><img src=\"https://colab.research.google.com/assets/colab-badge.svg\" alt=\"Open In Colab\"/></a>"
      ]
    },
    {
      "cell_type": "markdown",
      "source": [
        "# Algoritmos em Grafos\n",
        "## Grupo: Gabriel Fernandes Silva Vieira, Pedro Gabriel Camargo Calisto e Tulio Oliveira Cruz\n",
        "## Macroentrega 3\n",
        "## Universidade Federal de Lavras"
      ],
      "metadata": {
        "id": "3DbgPiCEGjO_"
      }
    },
    {
      "cell_type": "markdown",
      "source": [
        "# **Proposta do trabalho**"
      ],
      "metadata": {
        "id": "CarZ-t5SFBuR"
      }
    },
    {
      "cell_type": "markdown",
      "source": [
        "O algoritmo proposto consiste em um algoritmo construtivo pseudo-aleatório,\n",
        "onde deve-se iniciar o algoritmo executado o algoritmo de menor de Floyd Warshall,\n",
        "com o objetivo de computar o tempo de percurso 𝑡 para todo .\n",
        "𝑖𝑗\n",
        "𝑖, 𝑗 ∈ 𝑉\n",
        "Em nosso algoritmo iremos considerar que os pedidos estão ordenados pelo\n",
        "tempo inicial de atendimento da coleta. Caso dois ou mais pedidos possuam o\n",
        "mesmo tempo inicial, ordenamos pelo tempo final de atendimento da entrega.\n",
        "Temos duas informações associadas a cada veículo 𝑓 ∈ {1, .., 𝑛𝑢𝑚𝑉𝑒𝑖𝑐𝑢𝑙𝑜𝑠}\n",
        ": 𝑡 e , onde é a posição atual do veículo e o tempo que finalizou o último 𝑓\n",
        "𝑝\n",
        "𝑓\n",
        "𝑝\n",
        "𝑓\n",
        "𝑡\n",
        "𝑓\n",
        "atendimento. A cada iteração iremos alocar um pedido 𝑟 = (𝑖, 𝑗) a um veículo 𝑓\n",
        "desde que ele atenda às restrições do problema. Desta forma iremos verificar se a\n",
        "demanda atendida não irá ultrapassar a capacidade (𝑑 ), o veículo conseguirá\n",
        "𝑖 ≤ 𝑞\n",
        "𝑓\n",
        "estar no local antes do final do fim da janela da coleta (𝑡 ), o veículo 𝑓 + 𝑡\n",
        "𝑝\n",
        "𝑓\n",
        "𝑖 ≤ 𝑏\n",
        "𝑖\n",
        "conseguirá estar no local antes do final do fim da janela da entrega (\n",
        "𝑡 ) e se, caso necessário, o veículo conseguirá retornar ao 𝑓 + 𝑡\n",
        "𝑝\n",
        "𝑓\n",
        "𝑖 + 𝑠\n",
        "𝑖 + 𝑡\n",
        "𝑖𝑗 ≤ 𝑏\n",
        "𝑗\n",
        "depósito dentro do horizonte de roteirização (\n",
        "𝑡 ). 𝑓 + 𝑡\n",
        "𝑝\n",
        "𝑓\n",
        "𝑖 + 𝑡\n",
        "𝑖𝑗 + 𝑠\n",
        "𝑖 + 𝑠\n",
        "𝑗 + 𝑡\n",
        "𝑗{0} ≤ 𝐻\n",
        "Seja 𝐺 o conjunto de veículos que podem atender o pedido 𝑟. Caso |𝐺| = 0,\n",
        "significa que não existe nenhum veículo que possa atender o pedido r e podemos\n",
        "pausar a construção da solução. O algoritmo irá verificar se estamos na primeira\n",
        "iteração, caso positivo iremos selecionar 𝑔 ∈ 𝐺 com menor valor 𝑐 . Caso\n",
        "𝑝\n",
        "𝑔\n",
        "𝑖 + 𝑐\n",
        "𝑖𝑗\n",
        "contrário, iremos selecionar o veículo 𝑔 ∈ 𝐺 de forma aleatória dado pela\n",
        "distribuição uniforme π , onde quanto menor for o custo do veículo\n",
        "𝑔 =\n",
        "𝑔 ∈ 𝐺\n",
        "∑ 𝑐\n",
        "𝑝\n",
        "𝑔\n",
        "𝑖 + 𝑐\n",
        "𝑖𝑗\n",
        "𝑐\n",
        "𝑝\n",
        "𝑔\n",
        "𝑖 + 𝑐\n",
        "𝑖𝑗\n",
        "para atender esta entrega maior será a probabilidade de ser selecionado.\n",
        "Caso a solução gerada na iteração for viável iremos verificar se ela possui ou\n",
        "não melhor valor de função objetivo que a melhor solução já encontrada. Em caso\n",
        "positivo, a melhor solução já encontrada passa a ser a solução desta iteração.\n",
        "Caso tenhamos feito 𝐼𝑇𝐸𝑅 iterações e ainda não ter encontrado nenhuma\n",
        "𝑀𝐴𝑋\n",
        "solução viável iremos reiniciar o contador de iterações e aumentar em uma unidade\n",
        "o número de veículos a ser utilizado. Caso já tenha encontrado uma solução viável\n",
        "e percorrido 𝐼𝑇𝐸𝑅 iterações, iremos retornar a melhor solução encontrada. "
      ],
      "metadata": {
        "id": "Bgr1VJw4FMxY"
      }
    },
    {
      "cell_type": "markdown",
      "source": [
        "# **Pseudocodigo**"
      ],
      "metadata": {
        "id": "7Sh75OPEFnvn"
      }
    },
    {
      "cell_type": "markdown",
      "source": [
        "Entrada: Grafo G(V, A), conjunto de pontos de coleta P, conjunto de pontos de\n",
        "entrega D, conjunto de pedidos R.\n",
        "- Gabriel Fernandes Silva Vieira - 201920340\n",
        "- Pedro Gabriel Camargo Calisto - 201920337\n",
        "- Tulio Oliveira Cruz - 202020094\n",
        "Saída: Uma relação 𝐵 que associa cada pedido 𝑟 ∈ 𝑅 a um veículo.\n",
        "01. 𝑡 Floyd_Warshall(G)\n",
        "𝑖𝑗\n",
        "←\n",
        "02. Ordene os pedidos 𝑅 = {𝑟1, ..., 𝑟𝑘} de forma que (𝑎 ) ou (( )\n",
        "𝑟𝑙\n",
        "𝑖\n",
        "< 𝑎\n",
        "𝑟𝑚𝑖\n",
        "𝑎\n",
        "𝑟𝑙\n",
        "𝑖\n",
        "= 𝑎\n",
        "𝑟𝑚𝑖\n",
        "e (𝑏 )) para todo .\n",
        "𝑟𝑙\n",
        "𝑖\n",
        "≤ 𝑏\n",
        "𝑟𝑚𝑗\n",
        "𝑙 < 𝑚\n",
        "03. SolViavel ← F\n",
        "04. iter ← 0\n",
        "05. numVeiculos ←1\n",
        "06. Inicie a relação B com ∞ veículos\n",
        "07. Enquanto (𝑖𝑡𝑒𝑟 < 𝐼𝑇𝐸𝑅 ) faça\n",
        "𝑀𝐴𝑋\n",
        "08. Inicie a relação B’ com numVeiculos veículos\n",
        "09. Para todo 𝑓 ∈ {1, .., 𝑛𝑢𝑚𝑉𝑒𝑖𝑐𝑢𝑙𝑜𝑠} faça\n",
        "10. 𝑝 // Deposito\n",
        "𝑓\n",
        "← {0}\n",
        "11. 𝑡\n",
        "𝑓\n",
        "← 0\n",
        "12. Para todo 𝑟 = (𝑖, 𝑗) ∈ 𝑅 faça\n",
        "13. 𝐺 ← {}\n",
        "14. Para todo 𝑓 ∈ {1, .., 𝑛𝑢𝑚𝑉𝑒𝑖𝑐𝑢𝑙𝑜𝑠} faça\n",
        "15. Se (𝑑 ) e ( ) e ( ) e (\n",
        "𝑗 ≤ 𝑞\n",
        "𝑓\n",
        "𝑡\n",
        "𝑓 + 𝑡\n",
        "𝑝\n",
        "𝑓\n",
        "𝑖 ≤ 𝑏\n",
        "𝑖\n",
        "𝑡\n",
        "𝑓 + 𝑡\n",
        "𝑝\n",
        "𝑓\n",
        "𝑖 + 𝑠\n",
        "𝑖 + 𝑡\n",
        "𝑖𝑗 ≤ 𝑏\n",
        "𝑗\n",
        "𝑡 ) então\n",
        "𝑓 + 𝑡\n",
        "𝑝\n",
        "𝑓\n",
        "𝑖 + 𝑡\n",
        "𝑖𝑗 + 𝑠\n",
        "𝑖 + 𝑠\n",
        "𝑗 + 𝑡\n",
        "𝑗{0} ≤ 𝐻\n",
        "16. 𝐺 ← 𝐺 ∪ {𝑓}\n",
        "17. Se |𝐺| == 0 então\n",
        "18. break\n",
        "19. Senão\n",
        "20. Se iter == 0 então\n",
        "21. Selecione 𝑔 ∈ 𝐺 com menor valor 𝑐\n",
        "𝑝\n",
        "𝑔\n",
        "𝑖 + 𝑐\n",
        "𝑖𝑗\n",
        "22. Senão\n",
        "23. Atribua a cada elemento 𝑔 ∈ 𝐺 o valor π .\n",
        "𝑔 =\n",
        "𝑐\n",
        "𝑝\n",
        "𝑔\n",
        "𝑖 + 𝑐\n",
        "𝑖𝑗\n",
        "𝑔 ∈ 𝐺\n",
        "∑ 𝑐\n",
        "𝑝\n",
        "𝑔\n",
        "𝑖 + 𝑐\n",
        "𝑖𝑗\n",
        "24. Selecione aleatoriamente 𝑔 ∈ 𝐺 dado pela distribuição\n",
        "uniforme π .\n",
        "𝑔\n",
        "25. 𝑝\n",
        "𝑔\n",
        "← 𝑗\n",
        "26. 𝑡\n",
        "𝑔\n",
        "← 𝑡\n",
        "𝑔\n",
        "+ 𝑡\n",
        "𝑝\n",
        "𝑔'\n",
        "𝑖 + 𝑡\n",
        "𝑖𝑗 + 𝑠\n",
        "𝑖 + 𝑠\n",
        "𝑗\n",
        "27. 𝐵'[𝑟] = 𝑔\n",
        "28. SolViavel ← SolViavel ou Viavel(B’)\n",
        "29. Se (Viavel(B’) == V) e (ValorSolucao(B’) < ValorSolucao(B)) então\n",
        "30. B ← B’\n",
        "31. 𝑖𝑡𝑒𝑟 ← 𝑖𝑡𝑒𝑟 + 1\n",
        "32. Se (SolViavel == F) e (iter == 𝐼𝑇𝐸𝑅 ) então\n",
        "𝑀𝐴𝑋\n",
        "33. 𝑖𝑡𝑒𝑟 ← 0\n",
        "34. 𝑛𝑢𝑚𝑉𝑒𝑖𝑐𝑢𝑙𝑜𝑠 ← 𝑛𝑢𝑚𝑉𝑒𝑖𝑐𝑢𝑙𝑜𝑠 + 1\n",
        "35. Retorne B"
      ],
      "metadata": {
        "id": "blBNGdE2FsxF"
      }
    },
    {
      "cell_type": "markdown",
      "source": [
        "# **Classe do Grafo**"
      ],
      "metadata": {
        "id": "D5iboifyHwMF"
      }
    },
    {
      "cell_type": "code",
      "source": [
        "%%writefile grafo.cpp\n",
        "#include <vector>\n",
        "#include <map>\n",
        "#include \"vertice.cpp\"\n",
        "\n",
        "using namespace std;\n",
        "\n",
        "class Grafo{\n",
        "\n",
        "private:\n",
        "    vector<Vertice> vertices; // Conjunto de vértices\n",
        "    \n",
        "    vector<int> * ListaAdjacencia; // Lista de adjacencia\n",
        "\n",
        "    map < pair<int, int>, double> custo; // Associa uma arersta (i, j) a um custo c_{ij}\n",
        "    map < pair<int, int>, double> tempo; // Associa uma arersta (i, j) a um tempo t_{ij}\n",
        "\n",
        "public:\n",
        "\n",
        "    Grafo(vector<Vertice> vertices){\n",
        "        this->vertices = vertices;\n",
        "        ListaAdjacencia = new vector<int> [(int) vertices.size()];\n",
        "    }\n",
        "\n",
        "    void inserirAresta(int u, int v, double custo, double tempo){\n",
        "        this->ListaAdjacencia[u].push_back(v);\n",
        "        this->custo[make_pair(u, v)] = custo;\n",
        "        this->tempo[make_pair(u, v)] = tempo;\n",
        "    }\n",
        "\n",
        "    bool verificaAresta(int u, int v){\n",
        "        for (int i = 0; i < this->ListaAdjacencia[u].size(); ++i){\n",
        "            if(this->ListaAdjacencia[u][i] == v){\n",
        "                return true;\n",
        "            }\n",
        "        }\n",
        "        return false;\n",
        "    }\n",
        "\n",
        "    Vertice getVertice(int u){\n",
        "        return this->vertices[u];\n",
        "    }\n",
        "\n",
        "    double getCusto(int u, int v){\n",
        "        return this->custo[make_pair(u, v)];\n",
        "    }\n",
        "\n",
        "    double getTempo(int u, int v){\n",
        "        return this->tempo[make_pair(u, v)];\n",
        "    }\n",
        "\n",
        "    int getN(){\n",
        "        return (int) vertices.size();\n",
        "    }\n",
        "\n",
        "};"
      ],
      "metadata": {
        "colab": {
          "base_uri": "https://localhost:8080/"
        },
        "id": "lSool_B1IQEA",
        "outputId": "57e62661-42f7-4dac-cc1f-adde2cd85ed5"
      },
      "execution_count": null,
      "outputs": [
        {
          "output_type": "stream",
          "name": "stdout",
          "text": [
            "Overwriting grafo.cpp\n"
          ]
        }
      ]
    },
    {
      "cell_type": "markdown",
      "source": [
        "# **Classe Instancia**"
      ],
      "metadata": {
        "id": "UkbDBMomIlBx"
      }
    },
    {
      "cell_type": "code",
      "source": [
        "%%writefile instancia.cpp\n",
        "#include <string>\n",
        "#include \"grafo.cpp\"\n",
        "\n",
        "using namespace std;\n",
        "\n",
        "class Instancia{\n",
        "\n",
        "private:\n",
        "    \n",
        "    string nome;\n",
        "    Grafo * g; // grafo\n",
        "\n",
        "    int H; // horizonte de roterizacao\n",
        "    vector< pair<int, int> > pedidos;\n",
        "    double capacidade; // capacidade dos veiculos\n",
        "\n",
        "\n",
        "public:    \n",
        "    Instancia(string nome, Grafo * g, int H, double capacidade){\n",
        "        this->nome = nome;\n",
        "        this->g = g;\n",
        "        this->H = H;\n",
        "        this->capacidade = capacidade;\n",
        "    }\n",
        "\n",
        "    string getNome(){\n",
        "        return this->nome;\n",
        "    }\n",
        "\n",
        "    int getH(){\n",
        "        return this->H;\n",
        "    }\n",
        "\n",
        "    void inserirPedido(int u, int v){\n",
        "        this->pedidos.push_back(make_pair(u, v));\n",
        "    }\n",
        "\n",
        "    void setPedidos(vector< pair<int, int> > pedidos){\n",
        "        this->pedidos = pedidos;\n",
        "    }\n",
        "\n",
        "    vector< pair<int, int> > getPedidos(){\n",
        "        return this->pedidos;\n",
        "    }\n",
        "\n",
        "    Grafo * getGrafo(){\n",
        "        return this->g;\n",
        "    }\n",
        "\n",
        "    double getCapacidade(){\n",
        "        return this->capacidade;\n",
        "    }\n",
        "\n",
        "};"
      ],
      "metadata": {
        "colab": {
          "base_uri": "https://localhost:8080/"
        },
        "id": "hub28_G6IqyW",
        "outputId": "eeb4031b-f7cb-4ebe-882a-1d8f58e8fd0c"
      },
      "execution_count": null,
      "outputs": [
        {
          "output_type": "stream",
          "name": "stdout",
          "text": [
            "Overwriting instancia.cpp\n"
          ]
        }
      ]
    },
    {
      "cell_type": "markdown",
      "source": [
        "# **Classe Solução**"
      ],
      "metadata": {
        "id": "EN5so8rCJAQa"
      }
    },
    {
      "cell_type": "code",
      "source": [
        "%%writefile solucao.cpp\n",
        "\n",
        "using namespace std;\n",
        "\n",
        "class Solucao{\n",
        "\n",
        "private:\n",
        "    Instancia * instancia;\n",
        "    int numeroVeiculos;\n",
        "    vector< pair<int, int> > * pedidosAtendidos;\n",
        "\n",
        "public:\n",
        "    Solucao(int numeroVeiculos, Instancia * instancia){\n",
        "        this->numeroVeiculos = numeroVeiculos;\n",
        "        this->pedidosAtendidos = new vector< pair<int, int> > [numeroVeiculos];\n",
        "        this->instancia = instancia;\n",
        "    }\n",
        "\n",
        "    // Atribui um pedido a um veiculo\n",
        "    void AlocarPedido(int veiculo, pair<int, int> pedido){\n",
        "        this->pedidosAtendidos[veiculo].push_back(pedido);\n",
        "    }\n",
        "\n",
        "    // Retorna o valor da solucao\n",
        "    pair<int, double> ValorSolucao(){\n",
        "        pair<int, double> valor;\n",
        "        valor.first = this->numeroVeiculos;\n",
        "        double custo = 0;\n",
        "        for (int veiculo = 0; veiculo < this->numeroVeiculos; ++veiculo){\n",
        "            int localizacao_atual = 0; // todo veiculo inicia o trajeto no deposito\n",
        "            for (int j = 0; j < this->pedidosAtendidos[veiculo].size(); ++j){\n",
        "                custo += instancia->getGrafo()->getCusto(localizacao_atual, this->pedidosAtendidos[veiculo][j].first); // custo de ir ate o ponto de coleta\n",
        "                custo += instancia->getGrafo()->getCusto(this->pedidosAtendidos[veiculo][j].first, this->pedidosAtendidos[veiculo][j].second); // custo de levar ate o ponto de entrega\n",
        "                localizacao_atual = this->pedidosAtendidos[veiculo][j].second;\n",
        "            }\n",
        "            custo += instancia->getGrafo()->getCusto(localizacao_atual, 0); // custo de retorno ao deposito \n",
        "        }\n",
        "        valor.second = custo;\n",
        "        return valor;\n",
        "    }\n",
        "\n",
        "    bool isViavel(){\n",
        "\n",
        "        // Verifica se todos os pedidos foram alocados a exatamente um veiculo\n",
        "        vector< pair<int, int> > pedidos = this->instancia->getPedidos();\n",
        "        for (int i = 0; i < (int) pedidos.size(); ++i){\n",
        "            bool atendido = false;\n",
        "            for (int veiculo = 0; veiculo < this->numeroVeiculos; ++veiculo){\n",
        "                for (int j = 0; j < (int) this->pedidosAtendidos[veiculo].size(); ++j){\n",
        "                    if((pedidos[i].first == this->pedidosAtendidos[veiculo][j].first) && (pedidos[i].second == this->pedidosAtendidos[veiculo][j].second) && (!atendido)){\n",
        "                        atendido = true;\n",
        "                    }else if((pedidos[i].first == this->pedidosAtendidos[veiculo][j].first) && (pedidos[i].second == this->pedidosAtendidos[veiculo][j].second) && (atendido)){\n",
        "                        return false; // pedido alocado a mais de um veiculo\n",
        "                    }\n",
        "                }\n",
        "            }\n",
        "            if(!atendido){\n",
        "                return false; // Pelo menos um pedido nao foi atendido\n",
        "            }        \n",
        "        }        \n",
        "\n",
        "        for (int veiculo = 0; veiculo < this->numeroVeiculos; ++veiculo){\n",
        "            int localizacao_atual = 0; // iniciando no deposito\n",
        "            double tempo_veiculo = 0; // tempo inicial\n",
        "            double capacidade_veiculo = 0; // capacidade do veiculo\n",
        "            for (int j = 0; j < this->pedidosAtendidos[veiculo].size(); ++j){\n",
        "                tempo_veiculo += this->instancia->getGrafo()->getTempo(localizacao_atual, this->pedidosAtendidos[veiculo][j].first);\n",
        "                if(tempo_veiculo > this->instancia->getGrafo()->getVertice(this->pedidosAtendidos[veiculo][j].first).getJanelaTempo().second){\n",
        "                    return false;\n",
        "                }\n",
        "                tempo_veiculo = max(tempo_veiculo, this->instancia->getGrafo()->getVertice(this->pedidosAtendidos[veiculo][j].first).getJanelaTempo().first);\n",
        "                tempo_veiculo += this->instancia->getGrafo()->getVertice(this->pedidosAtendidos[veiculo][j].first).getDuracaoServico();\n",
        "                tempo_veiculo += this->instancia->getGrafo()->getTempo(this->pedidosAtendidos[veiculo][j].first, this->pedidosAtendidos[veiculo][j].second);\n",
        "                if(tempo_veiculo > this->instancia->getGrafo()->getVertice(this->pedidosAtendidos[veiculo][j].second).getJanelaTempo().second){\n",
        "                    return false;\n",
        "                }\n",
        "                tempo_veiculo = max(tempo_veiculo, this->instancia->getGrafo()->getVertice(this->pedidosAtendidos[veiculo][j].second).getJanelaTempo().first);\n",
        "                tempo_veiculo += this->instancia->getGrafo()->getVertice(this->pedidosAtendidos[veiculo][j].second).getDuracaoServico();\n",
        "                localizacao_atual = this->pedidosAtendidos[veiculo][j].second;\n",
        "                capacidade_veiculo = this->instancia->getGrafo()->getVertice(this->pedidosAtendidos[veiculo][j].first).getDemanda();\n",
        "                if(capacidade_veiculo > this->instancia->getCapacidade()){\n",
        "                    return false;\n",
        "                }\n",
        "            }\n",
        "            tempo_veiculo += this->instancia->getGrafo()->getTempo(localizacao_atual, 0); // retorno ao deposito\n",
        "            if(tempo_veiculo > this->instancia->getH()){\n",
        "                return false;\n",
        "            }\n",
        "        }\n",
        "\n",
        "        return true;\n",
        "    }\n",
        "\n",
        "};"
      ],
      "metadata": {
        "colab": {
          "base_uri": "https://localhost:8080/"
        },
        "id": "7n_3sVl1JL1_",
        "outputId": "7e759759-b600-4619-e2ba-9bb5bf52a25f"
      },
      "execution_count": null,
      "outputs": [
        {
          "output_type": "stream",
          "name": "stdout",
          "text": [
            "Overwriting solucao.cpp\n"
          ]
        }
      ]
    },
    {
      "cell_type": "markdown",
      "source": [
        "# **Classe Vertice**"
      ],
      "metadata": {
        "id": "zdJzVJkIJYGB"
      }
    },
    {
      "cell_type": "code",
      "source": [
        "%%writefile vertice.cpp\n",
        "\n",
        "using namespace std;\n",
        "\n",
        "#define DEPOSITO        0\n",
        "#define PONTO_COLETA    1\n",
        "#define PONTO_ENTREGA   2\n",
        "\n",
        "class Vertice{\n",
        "\n",
        "private:\n",
        "    int id;\n",
        "    int tipo; // Se o vertice eh o deposito, se eh ponto de entrega ou se eh ponto de coleta\n",
        "    \n",
        "    // Localizacao\n",
        "    double latitude;\n",
        "    double longitude;\n",
        "\n",
        "    // demanda\n",
        "    double demanda;\n",
        "\n",
        "    // Janela de tempo\n",
        "    double a;\n",
        "    double b;\n",
        "\n",
        "    // Duracao servico    \n",
        "    double duracao_servico;\n",
        "\n",
        "public:\n",
        "    Vertice(int id, double latitude, double longitude, double demanda, double a, double b, double duracao_servico){\n",
        "        this->id = id;\n",
        "        this->latitude = latitude;\n",
        "        this->longitude = longitude;\n",
        "        this->demanda = demanda;\n",
        "\n",
        "        if(demanda > 0){\n",
        "            this->tipo = PONTO_ENTREGA;\n",
        "        }else if(demanda < 0){\n",
        "            this->tipo = PONTO_COLETA;\n",
        "        }else{\n",
        "            this->tipo = DEPOSITO;\n",
        "        }\n",
        "\n",
        "        this->a = a;\n",
        "        this->b = b;\n",
        "        this->duracao_servico = duracao_servico;\n",
        "    }\n",
        "\n",
        "    int getId(){\n",
        "        return this->id;\n",
        "    }\n",
        "\n",
        "    int getTipo(){\n",
        "        return this->tipo;\n",
        "    }\n",
        "    \n",
        "    double getLatitude(){\n",
        "        return this->latitude;\n",
        "    }\n",
        "\n",
        "    double getLongitude(){\n",
        "        return this->longitude;\n",
        "    }\n",
        "\n",
        "    double getDemanda(){\n",
        "        return this->demanda;\n",
        "    }\n",
        "\n",
        "    pair< double, double > getJanelaTempo(){\n",
        "        return make_pair(this->a, this->b);\n",
        "    }\n",
        "\n",
        "    double getDuracaoServico(){\n",
        "        return this->duracao_servico;\n",
        "    }\n",
        "\n",
        "};"
      ],
      "metadata": {
        "colab": {
          "base_uri": "https://localhost:8080/"
        },
        "id": "_pSlNHh0JfDT",
        "outputId": "61259587-e732-48bd-9634-ce63548f10e7"
      },
      "execution_count": null,
      "outputs": [
        {
          "output_type": "stream",
          "name": "stdout",
          "text": [
            "Overwriting vertice.cpp\n"
          ]
        }
      ]
    },
    {
      "cell_type": "markdown",
      "source": [
        "# **Leitura do arquivo de entrada**"
      ],
      "metadata": {
        "id": "Ywuqr2JYJ5zq"
      }
    },
    {
      "cell_type": "code",
      "source": [
        "%%writefile leitura.cpp\n",
        "\n",
        "#include <iostream>\n",
        "#include <fstream>\n",
        "#include \"instancia.cpp\"\n",
        "\n",
        "using namespace std;\n",
        "\n",
        "// Realiza a leitura da instancia dado o caminho que a mesma se encontra\n",
        "Instancia LerArquivo(string caminho){\n",
        "    Instancia * instancia;\n",
        "\n",
        "    vector<Vertice> vertices;\n",
        "    vector< pair<int, int> > pedidos;\n",
        "\n",
        "    Grafo * g; \n",
        "    int H, n;\n",
        "    string nome, dados;\n",
        "    double capacidade;\n",
        "\n",
        "    string read1;\n",
        "    \n",
        "    size_t operator_position;\n",
        "    ifstream file1(caminho.c_str());\n",
        "\n",
        "    getline (file1, read1);\n",
        "    operator_position = read1.find_first_of(\": \");\n",
        "    nome = read1.substr(operator_position + 2);\n",
        "    \n",
        "    getline (file1, read1);\n",
        "    getline (file1, read1);\n",
        "    getline (file1, read1);\n",
        "    \n",
        "    getline (file1, read1);\n",
        "    operator_position = read1.find_first_of(\": \");\n",
        "    n = stoi(read1.substr(operator_position + 2));\n",
        "\n",
        "    getline (file1, read1);\n",
        "    getline (file1, read1);\n",
        "\n",
        "    getline (file1, read1);\n",
        "    operator_position = read1.find_first_of(\": \");\n",
        "    H = stoi(read1.substr(operator_position + 2));\n",
        "\n",
        "    getline (file1, read1);\n",
        "    \n",
        "    getline (file1, read1);\n",
        "    operator_position = read1.find_first_of(\": \");\n",
        "    capacidade = stod(read1.substr(operator_position + 2));    \n",
        "\n",
        "    getline (file1, read1);\n",
        "\n",
        "    int id, u, v;\n",
        "    double latitude, longitude, demanda, duracao_servico, a, b;\n",
        "\n",
        "    for (int i = 0; i < n; ++i){\n",
        "        file1 >> id >> latitude >> longitude >> demanda >> a >> b >> duracao_servico >> u >> v;\n",
        "        Vertice aux(id, latitude, longitude, demanda, a, b, duracao_servico);\n",
        "        vertices.push_back(aux);\n",
        "        if(i > 0){\n",
        "            if(u == 0){\n",
        "                pedidos.push_back(make_pair(i, v));\n",
        "            }\n",
        "        }\n",
        "    }\n",
        "\n",
        "    getline (file1, read1);\n",
        "    getline (file1, read1);\n",
        "\n",
        "    g = new Grafo(vertices);\n",
        "\n",
        "    double tempo;\n",
        "\n",
        "    for (int i = 0; i < n; ++i){\n",
        "        for (int j = 0; j < n; ++j){\n",
        "            file1 >> tempo;\n",
        "            g->inserirAresta(i, j, tempo, tempo); // tempo proporcional ao custo\n",
        "        }\n",
        "    }    \n",
        "\n",
        "    file1.close();\n",
        "\n",
        "    instancia = new Instancia(nome, g, H, capacidade);\n",
        "    instancia->setPedidos(pedidos);\n",
        "\n",
        "    return *instancia;\n",
        "}"
      ],
      "metadata": {
        "colab": {
          "base_uri": "https://localhost:8080/"
        },
        "id": "IvX1LPCnKAGz",
        "outputId": "ed5eb5ee-168d-4b33-8ba0-b7d1de2e3d71"
      },
      "execution_count": null,
      "outputs": [
        {
          "output_type": "stream",
          "name": "stdout",
          "text": [
            "Overwriting leitura.cpp\n"
          ]
        }
      ]
    },
    {
      "cell_type": "markdown",
      "source": [
        "# **Implementação do Floyd-Warshall**"
      ],
      "metadata": {
        "id": "rWJ_WNlQKH-6"
      }
    },
    {
      "cell_type": "code",
      "source": [
        "%%writefile algoritmo.cpp\n",
        "\n",
        "#include <iostream>\n",
        "#include <algorithm>\n",
        "#include <cmath>\n",
        "\n",
        "using namespace std;\n",
        "\n",
        "#define INF         10000000\n",
        "#define MAX_N       5000\n",
        "#define ITER_MAX    100\n",
        "\n",
        "double randValorDouble(int linf, int lsup){\n",
        "    #ifdef __linux__\n",
        "            int inteiro = (linf + lrand48() % (lsup - linf));//Aqui quando for executar no linux.\n",
        "            return (inteiro + drand48());\n",
        "    #elif _WIN32\n",
        "            int inteiro = (linf + rand() % (lsup - linf));//Aqui no windows\n",
        "            return (inteiro + rand());\n",
        "    #else\n",
        "            #error \"OS not supported!\"\n",
        "        #endif\n",
        "}\n",
        "\n",
        "/*\n",
        "Algoritmo de Floyd Warshall, onde termina-se o tamanho do menor entre todos os pares de vertices\n",
        "*/\n",
        "\n",
        "double distancia[MAX_N][MAX_N];\n",
        "\n",
        "void Floyd_Warshall(Grafo g){\n",
        "\n",
        "    for(int u = 0; u < g.getN(); u++){\n",
        "        for(int v = 0; v < g.getN(); v++){\n",
        "            distancia[u][v] = INF;\n",
        "        }    \n",
        "    }\n",
        "\n",
        "    for(int u = 0; u < g.getN(); u++){\n",
        "        for(int v = 0; v < g.getN(); v++){\n",
        "            if(g.verificaAresta(u, v)){\n",
        "                distancia[u][v] = g.getTempo(u, v);\n",
        "            }\n",
        "        }    \n",
        "    }\n",
        "\n",
        "    for(int u = 0; u < g.getN(); u++){\n",
        "        distancia[u][u] = 0;    \n",
        "    }\n",
        "\n",
        "    for (int k = 0; k < g.getN(); k++){\n",
        "        for (int i = 0; i < g.getN(); i++){\n",
        "            for (int j = 0; j < g.getN(); j++){\n",
        "                if(distancia[i][j] > distancia[i][k] + distancia[k][j]){\n",
        "                    distancia[i][j] = distancia[i][k] + distancia[k][j];\n",
        "                }\n",
        "            }\n",
        "        }\n",
        "    }\n",
        "\n",
        "}\n",
        "\n",
        "\n",
        "Solucao AlgoritmoProposto(Instancia instancia){\n",
        "\n",
        "    // Nao necessitamos para as instancias atuais\n",
        "    //Floyd_Warshall(*instancia.getGrafo());\n",
        "    \n",
        "    // Armazena os pedidos em um vetor juntamente com abertura da janela de tempo da coleta e com o fechamento de janela de tempo da entrega\n",
        "\n",
        "    vector< pair<int, int> > pedidos = instancia.getPedidos();\n",
        "\n",
        "    vector< pair< pair<int, int>, pair<int, int> > > janela_tempo_pedidos;\n",
        "    \n",
        "    for (int i = 0; i < (int) pedidos.size(); ++i){\n",
        "        janela_tempo_pedidos.push_back(make_pair(make_pair(instancia.getGrafo()->getVertice(pedidos[i].first).getJanelaTempo().first, instancia.getGrafo()->getVertice(pedidos[i].second).getJanelaTempo().second), pedidos[i]));\n",
        "    }\n",
        "\n",
        "    // Ordena considerando a janela de tempo\n",
        "\n",
        "    sort(janela_tempo_pedidos.begin(), janela_tempo_pedidos.end());\n",
        "\n",
        "    int numVeiculos = 1;  // Armazena numero de veiculos utilizado \n",
        "\n",
        "    Solucao melhorSolucao(INF, &instancia); // Armazena a melhor solucao encontrada\n",
        "\n",
        "    bool SolViavel = false; // Armazena se foi possivel ou nao encontrar uma solucao viavel\n",
        "    int iter = 0; // Numero de iteracoes\n",
        "\n",
        "\n",
        "    while(iter < ITER_MAX){\n",
        "        \n",
        "        // Inicia uma nova solucao\n",
        "        Solucao solucao(numVeiculos, &instancia);\n",
        "\n",
        "        // Dados necessarios para os veiculos\n",
        "        int p[numVeiculos]; // localizacao atual\n",
        "        double t[numVeiculos]; // tempo da ultima entrega\n",
        "\n",
        "        for (int i = 0; i < numVeiculos; ++i){\n",
        "            p[i] = 0; // Deposito\n",
        "            t[i] = 0; // Tempo inicial 0\n",
        "        }\n",
        "\n",
        "        for (int i = 0; i < (int) janela_tempo_pedidos.size(); ++i){\n",
        "            int u = janela_tempo_pedidos[i].second.first; // coleta\n",
        "            int v = janela_tempo_pedidos[i].second.second; // entrega\n",
        "            vector<int> G;\n",
        "            for (int j = 0; j < numVeiculos; ++j){\n",
        "                // Verifica se o veiculo j pode atender o pedido i\n",
        "                if((instancia.getGrafo()->getVertice(u).getDemanda() <= instancia.getCapacidade()) &&  (t[j] + instancia.getGrafo()->getTempo(p[j], u) <= instancia.getGrafo()->getVertice(u).getJanelaTempo().second) && (t[j] + instancia.getGrafo()->getTempo(p[j], u) + instancia.getGrafo()->getVertice(u).getDuracaoServico() + instancia.getGrafo()->getTempo(u, v) <= instancia.getGrafo()->getVertice(v).getJanelaTempo().second) && (t[j] + instancia.getGrafo()->getTempo(p[j], u) + instancia.getGrafo()->getVertice(u).getDuracaoServico() + instancia.getGrafo()->getTempo(u, v) + instancia.getGrafo()->getVertice(v).getDuracaoServico() + instancia.getGrafo()->getTempo(v, 0) <= instancia.getH())){\n",
        "                    G.push_back(j);\n",
        "                }\n",
        "            }\n",
        "\n",
        "            if((int)G.size() == 0){ // Caso nao tenha nenhum veiculo que possa atender\n",
        "                break;\n",
        "            }else{\n",
        "\n",
        "                if(iter == 0){ // Opta por escolha gulosas na primeira iteracao\n",
        "                    int g = G[0];\n",
        "                    double custo = INF;                    \n",
        "                    for (int j = 0; j < (int)G.size(); j++){\n",
        "                        if(instancia.getGrafo()->getCusto(G[j], u) + instancia.getGrafo()->getCusto(u, v) < custo){\n",
        "                            custo = instancia.getGrafo()->getCusto(G[j], u) + instancia.getGrafo()->getCusto(u, v);\n",
        "                            g = G[j];\n",
        "                        }\n",
        "                    }\n",
        "\n",
        "                    t[g] += instancia.getGrafo()->getTempo(p[g], u); \n",
        "                    t[g] = max(t[g], instancia.getGrafo()->getVertice(u).getJanelaTempo().first);\n",
        "                    t[g] += instancia.getGrafo()->getVertice(u).getDuracaoServico() + instancia.getGrafo()->getTempo(u, v); \n",
        "                    t[g] = max(t[g], instancia.getGrafo()->getVertice(v).getJanelaTempo().first);\n",
        "                    t[g] += instancia.getGrafo()->getVertice(v).getDuracaoServico();\n",
        "                    p[g] = v;\n",
        "                    solucao.AlocarPedido(g, make_pair(u, v));\n",
        "\n",
        "                }else{ // Escolhas aleatorias baseadas no custo nas demais iteracoes\n",
        "\n",
        "                    double probabilidade[(int)G.size()];\n",
        "                    double custoTotal = 0;\n",
        "                    for (int j = 0; j < (int)G.size(); j++){\n",
        "                        custoTotal += instancia.getGrafo()->getCusto(G[j], u) + instancia.getGrafo()->getCusto(u, v);\n",
        "                    }\n",
        "                    double soma_p = 0.0;\n",
        "                    for (int j = 0; j < (int)G.size(); j++){\n",
        "                       probabilidade[j] = (custoTotal / (instancia.getGrafo()->getCusto(G[j], u) + instancia.getGrafo()->getCusto(u, v)));\n",
        "                       soma_p += probabilidade[j];\n",
        "                    }\n",
        "\n",
        "                    int g = G[0];\n",
        "                    double p_ = randValorDouble(0, soma_p);\n",
        "                    double p_acumulada = 0;\n",
        "                    for (int j = 0; j < (int)G.size(); j++){\n",
        "                       if(probabilidade[j] + p_acumulada >= p_){\n",
        "                            g = G[j];\n",
        "                            break;\n",
        "                       }\n",
        "                       p_acumulada += probabilidade[j];\n",
        "                    }\n",
        "\n",
        "                    t[g] += instancia.getGrafo()->getTempo(p[g], u); \n",
        "                    t[g] = max(t[g], instancia.getGrafo()->getVertice(u).getJanelaTempo().first);\n",
        "                    t[g] += instancia.getGrafo()->getVertice(u).getDuracaoServico() + instancia.getGrafo()->getTempo(u, v); \n",
        "                    t[g] = max(t[g], instancia.getGrafo()->getVertice(v).getJanelaTempo().first);\n",
        "                    t[g] += instancia.getGrafo()->getVertice(v).getDuracaoServico();\n",
        "                    p[g] = v;\n",
        "                    solucao.AlocarPedido(g, make_pair(u, v));\n",
        "                }\n",
        "            }\n",
        "\n",
        "        }\n",
        "\n",
        "        // Armazena se ja foi possivel encontrar uma solucao otima\n",
        "\n",
        "        SolViavel = (SolViavel || solucao.isViavel());\n",
        "\n",
        "        // Verifica se a solucao viavel encontrada eh melhor que a melhor solucao ja encontrada\n",
        "\n",
        "        if((solucao.isViavel() == true)  && ((solucao.ValorSolucao().first < melhorSolucao.ValorSolucao().first) || ((solucao.ValorSolucao().first == melhorSolucao.ValorSolucao().first) && (solucao.ValorSolucao().second < melhorSolucao.ValorSolucao().second)))){\n",
        "            melhorSolucao = solucao;\n",
        "        }\n",
        "\n",
        "        // Incrementa o numero de iteracoes\n",
        "\n",
        "        iter++;\n",
        "\n",
        "        // Se alcancou o numero de iteracoes maximas e nao foi possivel encontrar uma solucao melhor, reinicia o numero de iteracoes e incrementa o numero de veiculos a ser utilizado\n",
        "\n",
        "        if(iter == ITER_MAX && SolViavel == false){\n",
        "            iter = 0;\n",
        "            numVeiculos++;\n",
        "        }\n",
        "    }\n",
        "\n",
        "    // Retorna a melhor solucao encontrada\n",
        "    \n",
        "    return melhorSolucao;\n",
        "}"
      ],
      "metadata": {
        "colab": {
          "base_uri": "https://localhost:8080/"
        },
        "id": "1kWNeJArKQ-D",
        "outputId": "e1f76ddb-d95a-4f48-86cc-48de062dd782"
      },
      "execution_count": null,
      "outputs": [
        {
          "output_type": "stream",
          "name": "stdout",
          "text": [
            "Overwriting algoritmo.cpp\n"
          ]
        }
      ]
    },
    {
      "cell_type": "markdown",
      "source": [
        "# **Main**"
      ],
      "metadata": {
        "id": "rmFS3ANIKZWh"
      }
    },
    {
      "cell_type": "code",
      "source": [
        "%%writefile main.cpp\n",
        "#include <iostream>\n",
        "#include <string>\n",
        "\n",
        "#include \"leitura.cpp\"\n",
        "#include \"solucao.cpp\"\n",
        "#include \"algoritmo.cpp\"\n",
        "\n",
        "using namespace std;\n",
        "\n",
        "// O progama espera que o nome da instancia seja passada por linha de comando\n",
        "\n",
        "int main(int argc, char *argv[]){\n",
        "    \n",
        "    string caminho = string(argv[1]);\n",
        "    \n",
        "    Instancia instancia = LerArquivo(caminho);\n",
        "\n",
        "    Solucao solucao = AlgoritmoProposto(instancia);\n",
        "\n",
        "    cout << \"Caminhoes: \" << endl;\n",
        "    cout << solucao.ValorSolucao().first << endl; \n",
        "    cout << \"Custo: \" << endl;\n",
        "    cout << solucao.ValorSolucao().second << endl;\n",
        "\n",
        "    return 0;\n",
        "}"
      ],
      "metadata": {
        "colab": {
          "base_uri": "https://localhost:8080/"
        },
        "id": "wD-EnRYnKcN4",
        "outputId": "8201b5df-28e1-437b-fd54-48bdb48fdf6a"
      },
      "execution_count": null,
      "outputs": [
        {
          "output_type": "stream",
          "name": "stdout",
          "text": [
            "Overwriting main.cpp\n"
          ]
        }
      ]
    },
    {
      "cell_type": "code",
      "source": [
        "import os\n",
        "\n",
        "# Especificar o caminho do arquivo a ser excluído\n",
        "caminho_arquivo = 'saida.txt'\n",
        "\n",
        "# Verificar se o arquivo existe\n",
        "if os.path.exists(caminho_arquivo):\n",
        "    # Excluir o arquivo\n",
        "    os.remove(caminho_arquivo)\n",
        "    print(f'O arquivo {caminho_arquivo} foi excluído com sucesso.')\n",
        "else:\n",
        "    print(f'O arquivo {caminho_arquivo} não existe.')"
      ],
      "metadata": {
        "colab": {
          "base_uri": "https://localhost:8080/"
        },
        "id": "umhCDnAkalK1",
        "outputId": "c56bf727-62ec-49bf-8c6d-d1c841e71eda"
      },
      "execution_count": null,
      "outputs": [
        {
          "output_type": "stream",
          "name": "stdout",
          "text": [
            "O arquivo saida.txt não existe.\n"
          ]
        }
      ]
    },
    {
      "cell_type": "markdown",
      "source": [
        "# Execução do teste (Deve-se importar o arquivo e escrever seu nome apos o ./ main)"
      ],
      "metadata": {
        "id": "iCZU_RwrPFZu"
      }
    },
    {
      "cell_type": "code",
      "source": [
        "%%script bash\n",
        "g++ main.cpp -o main\n",
        "./main bar-n100-2.txt >> saida.txt"
      ],
      "metadata": {
        "id": "rfbJWoq9Kgpz"
      },
      "execution_count": null,
      "outputs": []
    },
    {
      "cell_type": "markdown",
      "source": [
        "##**Demonstração da rota e Tratametno da saída**"
      ],
      "metadata": {
        "id": "8W_RUStdxqQP"
      }
    },
    {
      "cell_type": "code",
      "source": [
        "!pip install folium\n",
        "\n",
        "import folium\n",
        "import random"
      ],
      "metadata": {
        "colab": {
          "base_uri": "https://localhost:8080/"
        },
        "id": "Y28nvqKwoenc",
        "outputId": "2a3cd7a2-2b50-4f61-eabb-99e53cfcaf32"
      },
      "execution_count": null,
      "outputs": [
        {
          "output_type": "stream",
          "name": "stdout",
          "text": [
            "Looking in indexes: https://pypi.org/simple, https://us-python.pkg.dev/colab-wheels/public/simple/\n",
            "Requirement already satisfied: folium in /usr/local/lib/python3.8/dist-packages (0.12.1.post1)\n",
            "Requirement already satisfied: jinja2>=2.9 in /usr/local/lib/python3.8/dist-packages (from folium) (3.1.2)\n",
            "Requirement already satisfied: branca>=0.3.0 in /usr/local/lib/python3.8/dist-packages (from folium) (0.6.0)\n",
            "Requirement already satisfied: numpy in /usr/local/lib/python3.8/dist-packages (from folium) (1.22.4)\n",
            "Requirement already satisfied: requests in /usr/local/lib/python3.8/dist-packages (from folium) (2.25.1)\n",
            "Requirement already satisfied: MarkupSafe>=2.0 in /usr/local/lib/python3.8/dist-packages (from jinja2>=2.9->folium) (2.1.2)\n",
            "Requirement already satisfied: certifi>=2017.4.17 in /usr/local/lib/python3.8/dist-packages (from requests->folium) (2022.12.7)\n",
            "Requirement already satisfied: urllib3<1.27,>=1.21.1 in /usr/local/lib/python3.8/dist-packages (from requests->folium) (1.26.14)\n",
            "Requirement already satisfied: chardet<5,>=3.0.2 in /usr/local/lib/python3.8/dist-packages (from requests->folium) (4.0.0)\n",
            "Requirement already satisfied: idna<3,>=2.5 in /usr/local/lib/python3.8/dist-packages (from requests->folium) (2.10)\n"
          ]
        }
      ]
    },
    {
      "cell_type": "code",
      "source": [
        "\n",
        "# Solicitar ao usuário que digite o nome do arquivo de entrada\n",
        "nome_arquivo = input(\"Digite o nome do arquivo de entrada: \")\n",
        "\n",
        "\n",
        "\n",
        "with open('saida.txt', 'r') as arquivo:\n",
        "    cout = 0\n",
        "    for linha in arquivo:\n",
        "        cout += 1\n",
        "        if cout == 2:\n",
        "          quantidade_caminhoes = linha\n",
        "        if cout == 4: \n",
        "          custo = linha\n",
        "\n",
        "from tabulate import tabulate\n",
        "\n",
        "# Converte os valores para int ou float se necessário\n",
        "quantidade_caminhoes = int(quantidade_caminhoes)\n",
        "custo = float(custo)\n",
        "\n",
        "# Formata o valor do custo como uma moeda\n",
        "custo_formatado = \"R$ {:,.2f}\".format(custo)\n",
        "\n",
        "# Cria uma lista com os valores\n",
        "dados = [[\"Quantidade de caminhões\", quantidade_caminhoes],\n",
        "         [\"Custo\", custo_formatado]]\n",
        "\n",
        "# Imprime os valores como uma tabela\n",
        "print(tabulate(dados, headers=[\"Descrição\", \"Valor\"], tablefmt=\"grid\"))\n",
        "\n",
        "# Abrir o arquivo de entrada em modo de leitura\n",
        "with open(nome_arquivo, 'r') as arquivo:\n",
        "    cout = 0\n",
        "    listaCoordenadas = []\n",
        "    \n",
        "    for linha in arquivo:\n",
        "        cout += 1\n",
        "        if cout == 5:\n",
        "          palavras = linha.split()\n",
        "          valor = int(palavras[1])\n",
        "        if cout > 11 and cout <= valor + 11: \n",
        "          latitudeLongitude = []\n",
        "          coordenadas = linha.split();\n",
        "          latitudeLongitude.append(float(coordenadas[1]))\n",
        "          latitudeLongitude.append(float(coordenadas[2]))\n",
        "          listaCoordenadas.append(latitudeLongitude)\n",
        "\n",
        "# Definir as coordenadas dos pontos de origem e destino\n",
        "rotas = listaCoordenadas\n",
        "\n",
        "# cria um mapa centrado na localização inicial da primeira rota\n",
        "mapa = folium.Map(location=rotas[0], zoom_start=15)\n",
        "\n",
        "contador = 0\n",
        "\n",
        "\n",
        "for i, coordenada in enumerate(rotas):\n",
        "    r = random.randint(0, 255)\n",
        "    g = random.randint(0, 255)\n",
        "    b = random.randint(0, 255)\n",
        "    if(i < len(rotas)-1):\n",
        "      icone_origem = folium.Icon(color='blue', icon='glyphicon-home')\n",
        "      if(i == 0):\n",
        "          icone = folium.Icon(color='green', icon='glyphicon-home')\n",
        "          folium.Marker(location=coordenada, icon=icone, popup='Início da rota').add_to(mapa)\n",
        "      else:\n",
        "          folium.Marker(location=coordenada, icon=icone_origem, popup='Destino ' + str(i)).add_to(mapa)\n",
        "      icone_destino = folium.Icon(color='red', icon='glyphicon-flag')\n",
        "      folium.Marker(location=rotas[i+1],  icon=icone_destino, popup='Fim da rota').add_to(mapa)\n",
        "      folium.PolyLine(locations=[rotas[i], rotas[i+1]], color=f'#{r:02x}{g:02x}{b:02x}').add_to(mapa)\n",
        "\n",
        "# exibe o mapa\n",
        "mapa\n",
        "    "
      ],
      "metadata": {
        "id": "GY_5O-aAc18m",
        "colab": {
          "base_uri": "https://localhost:8080/",
          "height": 381
        },
        "outputId": "83cc3ec8-cfa9-40be-bc5c-7ad97a76e686"
      },
      "execution_count": null,
      "outputs": [
        {
          "output_type": "error",
          "ename": "KeyboardInterrupt",
          "evalue": "ignored",
          "traceback": [
            "\u001b[0;31m---------------------------------------------------------------------------\u001b[0m",
            "\u001b[0;31mKeyboardInterrupt\u001b[0m                         Traceback (most recent call last)",
            "\u001b[0;32m<ipython-input-133-db26f95d522c>\u001b[0m in \u001b[0;36m<module>\u001b[0;34m\u001b[0m\n\u001b[1;32m      1\u001b[0m \u001b[0;31m# Solicitar ao usuário que digite o nome do arquivo de entrada\u001b[0m\u001b[0;34m\u001b[0m\u001b[0;34m\u001b[0m\u001b[0;34m\u001b[0m\u001b[0m\n\u001b[0;32m----> 2\u001b[0;31m \u001b[0mnome_arquivo\u001b[0m \u001b[0;34m=\u001b[0m \u001b[0minput\u001b[0m\u001b[0;34m(\u001b[0m\u001b[0;34m\"Digite o nome do arquivo de entrada: \"\u001b[0m\u001b[0;34m)\u001b[0m\u001b[0;34m\u001b[0m\u001b[0;34m\u001b[0m\u001b[0m\n\u001b[0m\u001b[1;32m      3\u001b[0m \u001b[0;34m\u001b[0m\u001b[0m\n\u001b[1;32m      4\u001b[0m \u001b[0;34m\u001b[0m\u001b[0m\n\u001b[1;32m      5\u001b[0m \u001b[0;34m\u001b[0m\u001b[0m\n",
            "\u001b[0;32m/usr/local/lib/python3.8/dist-packages/ipykernel/kernelbase.py\u001b[0m in \u001b[0;36mraw_input\u001b[0;34m(self, prompt)\u001b[0m\n\u001b[1;32m    858\u001b[0m                 \u001b[0;34m\"raw_input was called, but this frontend does not support input requests.\"\u001b[0m\u001b[0;34m\u001b[0m\u001b[0;34m\u001b[0m\u001b[0m\n\u001b[1;32m    859\u001b[0m             )\n\u001b[0;32m--> 860\u001b[0;31m         return self._input_request(str(prompt),\n\u001b[0m\u001b[1;32m    861\u001b[0m             \u001b[0mself\u001b[0m\u001b[0;34m.\u001b[0m\u001b[0m_parent_ident\u001b[0m\u001b[0;34m,\u001b[0m\u001b[0;34m\u001b[0m\u001b[0;34m\u001b[0m\u001b[0m\n\u001b[1;32m    862\u001b[0m             \u001b[0mself\u001b[0m\u001b[0;34m.\u001b[0m\u001b[0m_parent_header\u001b[0m\u001b[0;34m,\u001b[0m\u001b[0;34m\u001b[0m\u001b[0;34m\u001b[0m\u001b[0m\n",
            "\u001b[0;32m/usr/local/lib/python3.8/dist-packages/ipykernel/kernelbase.py\u001b[0m in \u001b[0;36m_input_request\u001b[0;34m(self, prompt, ident, parent, password)\u001b[0m\n\u001b[1;32m    902\u001b[0m             \u001b[0;32mexcept\u001b[0m \u001b[0mKeyboardInterrupt\u001b[0m\u001b[0;34m:\u001b[0m\u001b[0;34m\u001b[0m\u001b[0;34m\u001b[0m\u001b[0m\n\u001b[1;32m    903\u001b[0m                 \u001b[0;31m# re-raise KeyboardInterrupt, to truncate traceback\u001b[0m\u001b[0;34m\u001b[0m\u001b[0;34m\u001b[0m\u001b[0;34m\u001b[0m\u001b[0m\n\u001b[0;32m--> 904\u001b[0;31m                 \u001b[0;32mraise\u001b[0m \u001b[0mKeyboardInterrupt\u001b[0m\u001b[0;34m(\u001b[0m\u001b[0;34m\"Interrupted by user\"\u001b[0m\u001b[0;34m)\u001b[0m \u001b[0;32mfrom\u001b[0m \u001b[0;32mNone\u001b[0m\u001b[0;34m\u001b[0m\u001b[0;34m\u001b[0m\u001b[0m\n\u001b[0m\u001b[1;32m    905\u001b[0m             \u001b[0;32mexcept\u001b[0m \u001b[0mException\u001b[0m \u001b[0;32mas\u001b[0m \u001b[0me\u001b[0m\u001b[0;34m:\u001b[0m\u001b[0;34m\u001b[0m\u001b[0;34m\u001b[0m\u001b[0m\n\u001b[1;32m    906\u001b[0m                 \u001b[0mself\u001b[0m\u001b[0;34m.\u001b[0m\u001b[0mlog\u001b[0m\u001b[0;34m.\u001b[0m\u001b[0mwarning\u001b[0m\u001b[0;34m(\u001b[0m\u001b[0;34m\"Invalid Message:\"\u001b[0m\u001b[0;34m,\u001b[0m \u001b[0mexc_info\u001b[0m\u001b[0;34m=\u001b[0m\u001b[0;32mTrue\u001b[0m\u001b[0;34m)\u001b[0m\u001b[0;34m\u001b[0m\u001b[0;34m\u001b[0m\u001b[0m\n",
            "\u001b[0;31mKeyboardInterrupt\u001b[0m: Interrupted by user"
          ]
        }
      ]
    },
    {
      "cell_type": "markdown",
      "source": [
        "# **Resultado das execuções locais** (Collab está realizando a leitura do arquivo de forma diferente e não soubemos identificar o motivo)"
      ],
      "metadata": {
        "id": "2FPcGjFEQwbO"
      }
    },
    {
      "cell_type": "markdown",
      "source": [
        "![image.png](data:image/png;base64,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)"
      ],
      "metadata": {
        "id": "kddQqXGqQ44o"
      }
    }
  ]
}